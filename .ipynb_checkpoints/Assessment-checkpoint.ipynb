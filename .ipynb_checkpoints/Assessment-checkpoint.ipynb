{
 "cells": [
  {
   "cell_type": "code",
   "execution_count": 64,
   "id": "d95636b2",
   "metadata": {},
   "outputs": [
    {
     "name": "stdout",
     "output_type": "stream",
     "text": [
      "Patient           object\n",
      "Visit_Reason      object\n",
      "Date              object\n",
      "Visit_Duration     int64\n",
      "dtype: object\n",
      "            Patient     Visit_Reason        Date  Visit_Duration\n",
      "0       David Moore            Cough  2022-01-05              17\n",
      "1       Ivy Johnson           Injury  2022-10-20              51\n",
      "2     Hannah Miller         Headache  2022-08-24              25\n",
      "3        Ivy Wilson          Allergy  2022-08-25              26\n",
      "4  Charlie Williams  Routine Checkup  2022-10-27              25\n",
      "5     Charlie Davis           Injury  2022-05-20              39\n",
      "6        Ivy Miller         Headache  2022-02-20              16\n",
      "7         Ivy Smith           Injury  2022-11-07              57\n",
      "8        Jack Moore            Cough  2022-07-14              22\n",
      "9         Bob Davis            Fever  2022-01-20              30\n"
     ]
    }
   ],
   "source": [
    "import pandas as pd\n",
    "import seaborn as sns\n",
    "\n",
    "data = pd.read_csv('visit_data.csv')\n",
    "df = pd.DataFrame(data)\n",
    "\n",
    "\n",
    "print(data.dtypes)\n",
    "print(data.head(10))\n",
    "data = data.drop_duplicates()\n"
   ]
  },
  {
   "cell_type": "code",
   "execution_count": 65,
   "id": "fa43c4c7",
   "metadata": {},
   "outputs": [],
   "source": [
    "#make a list with the visit reasons and count the occurences of said reasons\n",
    "visit_reason_list = data.Visit_Reason.value_counts()\n",
    "index = visit_reason_list.index\n",
    "values = visit_reason_list.values\n",
    "calculated_list = []"
   ]
  },
  {
   "cell_type": "code",
   "execution_count": 66,
   "id": "5259800a",
   "metadata": {},
   "outputs": [
    {
     "name": "stdout",
     "output_type": "stream",
     "text": [
      "Headache,1723,15.3,25,5\n",
      "Allergy,1679,20.0,30,10\n",
      "Routine Checkup,1673,22.6,30,15\n",
      "Injury,1664,44.8,60,30\n",
      "Cough,1635,19.8,30,10\n",
      "Fever,1610,30.2,45,15\n"
     ]
    }
   ],
   "source": [
    "for sickness, visits in visit_reason_list.items():\n",
    "    formatted_string = f\"{visits} visits were due to {sickness}. \"\n",
    "    mask = data.Visit_Reason == sickness \n",
    "    mean_sickness = data.loc[mask, 'Visit_Duration'].mean().round(decimals=1)\n",
    "    max_sickness = data.loc[mask, 'Visit_Duration'].max()\n",
    "    min_sickness = data.loc[mask, 'Visit_Duration'].min()\n",
    "    formatted_string += f\"A mean of {mean_sickness} minutes were spent per visit.\"\n",
    "    formatted_strings.append(formatted_string)\n",
    "    row_sickness= ','.join([str(sickness),str(visits),str(mean_sickness),str(max_sickness),str(min_sickness)])\n",
    "    calculated_list.append(row_sickness)\n",
    "    print(row_sickness)"
   ]
  },
  {
   "cell_type": "code",
   "execution_count": 67,
   "id": "5e64243f",
   "metadata": {},
   "outputs": [
    {
     "name": "stdout",
     "output_type": "stream",
     "text": [
      "['Headache,1723,15.3,25,5', 'Allergy,1679,20.0,30,10', 'Routine Checkup,1673,22.6,30,15', 'Injury,1664,44.8,60,30', 'Cough,1635,19.8,30,10', 'Fever,1610,30.2,45,15']\n"
     ]
    }
   ],
   "source": [
    "print(calculated_list)\n",
    "csv_file_path = 'calculations.csv'\n",
    "with open(csv_file_path, 'w') as file:\n",
    "    file.write(\"Visit_Reason,Visits,Mean_Duration,Max_Duration,Min_Duration\\n\")\n",
    "    file.write(\"\\n\".join(calculated_list))"
   ]
  },
  {
   "cell_type": "code",
   "execution_count": 77,
   "id": "d8aa11af",
   "metadata": {},
   "outputs": [
    {
     "name": "stdout",
     "output_type": "stream",
     "text": [
      "      Visit_Reason  Visits  Mean_Duration  Max_Duration  Min_Duration\n",
      "0         Headache    1723           15.3            25             5\n",
      "1          Allergy    1679           20.0            30            10\n",
      "2  Routine Checkup    1673           22.6            30            15\n",
      "3           Injury    1664           44.8            60            30\n",
      "4            Cough    1635           19.8            30            10\n",
      "Visit_Reason      object\n",
      "Visits             int64\n",
      "Mean_Duration    float64\n",
      "Max_Duration       int64\n",
      "Min_Duration       int64\n",
      "dtype: object\n"
     ]
    },
    {
     "data": {
      "text/plain": [
       "<seaborn.axisgrid.FacetGrid at 0x148773c10>"
      ]
     },
     "execution_count": 77,
     "metadata": {},
     "output_type": "execute_result"
    },
    {
     "data": {
      "image/png": "[encoded data removed]",
      "text/plain": [
       "<Figure size 500x500 with 1 Axes>"
      ]
     },
     "metadata": {},
     "output_type": "display_data"
    }
   ],
   "source": [
    "calculated_data = pd.read_csv('calculations.csv')\n",
    "calculated_data = pd.DataFrame(calculated_data)\n",
    "print(calculated_data.head())\n",
    "print(calculated_data.dtypes)\n",
    "sns.set(style=\"whitegrid\")  # Set the overall style\n",
    "sns.catplot(data=calculated_data, kind=\"bar\", x=\"Visit_Reason\", y=\"Mean_Duration\")"
   ]
  },
  {
   "cell_type": "code",
   "execution_count": null,
   "id": "e5dc6050",
   "metadata": {},
   "outputs": [],
   "source": []
  }
 ],
 "metadata": {
  "kernelspec": {
   "display_name": "Python 3 (ipykernel)",
   "language": "python",
   "name": "python3"
  },
  "language_info": {
   "codemirror_mode": {
    "name": "ipython",
    "version": 3
   },
   "file_extension": ".py",
   "mimetype": "text/x-python",
   "name": "python",
   "nbconvert_exporter": "python",
   "pygments_lexer": "ipython3",
   "version": "3.11.4"
  }
 },
 "nbformat": 4,
 "nbformat_minor": 5
}
